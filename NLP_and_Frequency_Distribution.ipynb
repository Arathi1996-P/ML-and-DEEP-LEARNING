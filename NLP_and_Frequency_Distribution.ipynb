{
  "nbformat": 4,
  "nbformat_minor": 0,
  "metadata": {
    "colab": {
      "provenance": [],
      "authorship_tag": "ABX9TyOuRuJ0YJX0bTG6IEX8d2/2",
      "include_colab_link": true
    },
    "kernelspec": {
      "name": "python3",
      "display_name": "Python 3"
    },
    "language_info": {
      "name": "python"
    }
  },
  "cells": [
    {
      "cell_type": "markdown",
      "metadata": {
        "id": "view-in-github",
        "colab_type": "text"
      },
      "source": [
        "<a href=\"https://colab.research.google.com/github/Arathi1996-P/ML-and-DEEP-LEARNING/blob/main/NLP_and_Frequency_Distribution.ipynb\" target=\"_parent\"><img src=\"https://colab.research.google.com/assets/colab-badge.svg\" alt=\"Open In Colab\"/></a>"
      ]
    },
    {
      "cell_type": "code",
      "execution_count": null,
      "metadata": {
        "id": "yHTghzGEGILg"
      },
      "outputs": [],
      "source": [
        " import nltk\n",
        "from nltk.probability import FreqDist"
      ]
    },
    {
      "cell_type": "markdown",
      "source": [
        "**Feed the Textwhere we should work upon**"
      ],
      "metadata": {
        "id": "5oW3KiwkHfg2"
      }
    },
    {
      "cell_type": "code",
      "source": [
        "text1=\"NLTK is a leading platform for building Python programs to work with human language data. It provides easy-to-use interfaces to over 50 corpora and lexical resources such as WordNet, along with a suite of text processing libraries for classification, tokenization, stemming, tagging, parsing, and semantic reasoning, wrappers for industrial-strength NLP libraries, and an active discussion forum.\""
      ],
      "metadata": {
        "id": "IPnZxeN0GmjO"
      },
      "execution_count": null,
      "outputs": []
    },
    {
      "cell_type": "code",
      "source": [
        "print(text1)"
      ],
      "metadata": {
        "colab": {
          "base_uri": "https://localhost:8080/"
        },
        "id": "hlD79WWTHZQ8",
        "outputId": "87b32d41-6d66-438a-b39b-7e615683e1b7"
      },
      "execution_count": null,
      "outputs": [
        {
          "output_type": "stream",
          "name": "stdout",
          "text": [
            "NLTK is a leading platform for building Python programs to work with human language data. It provides easy-to-use interfaces to over 50 corpora and lexical resources such as WordNet, along with a suite of text processing libraries for classification, tokenization, stemming, tagging, parsing, and semantic reasoning, wrappers for industrial-strength NLP libraries, and an active discussion forum.\n"
          ]
        }
      ]
    },
    {
      "cell_type": "markdown",
      "source": [
        "**Then break the sentenses in to words**"
      ],
      "metadata": {
        "id": "Sg3hij_oHd7D"
      }
    },
    {
      "cell_type": "code",
      "source": [
        "import nltk\n",
        "nltk.download('punkt')"
      ],
      "metadata": {
        "colab": {
          "base_uri": "https://localhost:8080/"
        },
        "id": "XXNMJvOPIqxD",
        "outputId": "2a622025-2c09-4848-8d29-884ae6ae13ae"
      },
      "execution_count": null,
      "outputs": [
        {
          "output_type": "stream",
          "name": "stderr",
          "text": [
            "[nltk_data] Downloading package punkt to /root/nltk_data...\n",
            "[nltk_data]   Unzipping tokenizers/punkt.zip.\n"
          ]
        },
        {
          "output_type": "execute_result",
          "data": {
            "text/plain": [
              "True"
            ]
          },
          "metadata": {},
          "execution_count": 10
        }
      ]
    },
    {
      "cell_type": "code",
      "source": [
        "Word_tokens=nltk.word_tokenize(text1)"
      ],
      "metadata": {
        "id": "-urOqROeH4S5"
      },
      "execution_count": null,
      "outputs": []
    },
    {
      "cell_type": "code",
      "source": [
        "print(Word_tokens)"
      ],
      "metadata": {
        "colab": {
          "base_uri": "https://localhost:8080/"
        },
        "id": "yN69NLxqIuo6",
        "outputId": "2c7471fe-f2ff-428c-b2fd-c3114010b4d8"
      },
      "execution_count": null,
      "outputs": [
        {
          "output_type": "stream",
          "name": "stdout",
          "text": [
            "['NLTK', 'is', 'a', 'leading', 'platform', 'for', 'building', 'Python', 'programs', 'to', 'work', 'with', 'human', 'language', 'data', '.', 'It', 'provides', 'easy-to-use', 'interfaces', 'to', 'over', '50', 'corpora', 'and', 'lexical', 'resources', 'such', 'as', 'WordNet', ',', 'along', 'with', 'a', 'suite', 'of', 'text', 'processing', 'libraries', 'for', 'classification', ',', 'tokenization', ',', 'stemming', ',', 'tagging', ',', 'parsing', ',', 'and', 'semantic', 'reasoning', ',', 'wrappers', 'for', 'industrial-strength', 'NLP', 'libraries', ',', 'and', 'an', 'active', 'discussion', 'forum', '.']\n"
          ]
        }
      ]
    },
    {
      "cell_type": "markdown",
      "source": [
        "Now by using word tokenizer we have tokenized the paragraph into words seperatd by commas."
      ],
      "metadata": {
        "id": "xcOQjxf1I3Oc"
      }
    },
    {
      "cell_type": "code",
      "source": [
        "len(Word_tokens)"
      ],
      "metadata": {
        "colab": {
          "base_uri": "https://localhost:8080/"
        },
        "id": "iHdFNICAJKrg",
        "outputId": "a04bca82-bc65-4e01-c8a1-ee414f65540b"
      },
      "execution_count": null,
      "outputs": [
        {
          "output_type": "execute_result",
          "data": {
            "text/plain": [
              "66"
            ]
          },
          "metadata": {},
          "execution_count": 13
        }
      ]
    },
    {
      "cell_type": "markdown",
      "source": [
        "**Apply frequency distribution**"
      ],
      "metadata": {
        "id": "ihULaew4JSFk"
      }
    },
    {
      "cell_type": "code",
      "source": [
        "word2=FreqDist(Word_tokens)"
      ],
      "metadata": {
        "id": "Ou3Ot9bLJYf4"
      },
      "execution_count": null,
      "outputs": []
    },
    {
      "cell_type": "code",
      "source": [
        "print(word2)"
      ],
      "metadata": {
        "colab": {
          "base_uri": "https://localhost:8080/"
        },
        "id": "6sS-jeWYJf9c",
        "outputId": "9b790e89-8b65-4e9c-f50f-84ad018ebfcb"
      },
      "execution_count": null,
      "outputs": [
        {
          "output_type": "stream",
          "name": "stdout",
          "text": [
            "<FreqDist with 50 samples and 66 outcomes>\n"
          ]
        }
      ]
    },
    {
      "cell_type": "code",
      "source": [
        "len(word2)"
      ],
      "metadata": {
        "colab": {
          "base_uri": "https://localhost:8080/"
        },
        "id": "LLvsQyRrJkF8",
        "outputId": "17a6472e-c45b-4b70-9189-da7b3ce7fc0a"
      },
      "execution_count": null,
      "outputs": [
        {
          "output_type": "execute_result",
          "data": {
            "text/plain": [
              "50"
            ]
          },
          "metadata": {},
          "execution_count": 16
        }
      ]
    },
    {
      "cell_type": "markdown",
      "source": [
        "Total we have 50 unique words"
      ],
      "metadata": {
        "id": "-6JdRnSOJpya"
      }
    },
    {
      "cell_type": "code",
      "source": [
        "word2.most_common(10)"
      ],
      "metadata": {
        "colab": {
          "base_uri": "https://localhost:8080/"
        },
        "id": "pbSCO-_sJvNJ",
        "outputId": "1735989e-3721-4c60-9cab-ea21572b0172"
      },
      "execution_count": null,
      "outputs": [
        {
          "output_type": "execute_result",
          "data": {
            "text/plain": [
              "[(',', 8),\n",
              " ('for', 3),\n",
              " ('and', 3),\n",
              " ('a', 2),\n",
              " ('to', 2),\n",
              " ('with', 2),\n",
              " ('.', 2),\n",
              " ('libraries', 2),\n",
              " ('NLTK', 1),\n",
              " ('is', 1)]"
            ]
          },
          "metadata": {},
          "execution_count": 17
        }
      ]
    },
    {
      "cell_type": "markdown",
      "source": [
        "Thses are most common 10 words or samples."
      ],
      "metadata": {
        "id": "KUUvg_7fJ0KB"
      }
    },
    {
      "cell_type": "markdown",
      "source": [
        "**Frequency of a particular word**"
      ],
      "metadata": {
        "id": "4sQIWy9VJ7QS"
      }
    },
    {
      "cell_type": "code",
      "source": [
        "word2.freq(\"NLTK\")"
      ],
      "metadata": {
        "colab": {
          "base_uri": "https://localhost:8080/"
        },
        "id": "I3raQj5vJ7k5",
        "outputId": "4a4577f3-d011-4588-c416-3af3521760e1"
      },
      "execution_count": null,
      "outputs": [
        {
          "output_type": "execute_result",
          "data": {
            "text/plain": [
              "0.015151515151515152"
            ]
          },
          "metadata": {},
          "execution_count": 18
        }
      ]
    },
    {
      "cell_type": "code",
      "source": [
        "word2.freq(\"for\")"
      ],
      "metadata": {
        "colab": {
          "base_uri": "https://localhost:8080/"
        },
        "id": "M9Ul8vRcKjDC",
        "outputId": "125e05e6-13b4-4c54-a7e2-cd25470b517d"
      },
      "execution_count": null,
      "outputs": [
        {
          "output_type": "execute_result",
          "data": {
            "text/plain": [
              "0.045454545454545456"
            ]
          },
          "metadata": {},
          "execution_count": 19
        }
      ]
    },
    {
      "cell_type": "markdown",
      "source": [
        "Frequecy=count of the particular word/total number of words\n",
        "Thus calculating the frequency of the provided words."
      ],
      "metadata": {
        "id": "cyc73VbfKO_f"
      }
    },
    {
      "cell_type": "markdown",
      "source": [
        "**Plot the frequency on a line plot**"
      ],
      "metadata": {
        "id": "0olpAYTvKiyg"
      }
    },
    {
      "cell_type": "code",
      "source": [
        "import matplotlib.pyplot as plt\n"
      ],
      "metadata": {
        "id": "i8n7qXp5K8mW"
      },
      "execution_count": null,
      "outputs": []
    },
    {
      "cell_type": "code",
      "source": [
        "fig,ax=plt.subplots(figsize=(10,5))\n",
        "word2.plot(10)"
      ],
      "metadata": {
        "colab": {
          "base_uri": "https://localhost:8080/",
          "height": 524
        },
        "id": "pWMDN4t8LDKS",
        "outputId": "a9303fad-442e-4a3a-821b-9fd7104203f4"
      },
      "execution_count": null,
      "outputs": [
        {
          "output_type": "display_data",
          "data": {
            "text/plain": [
              "<Figure size 1000x500 with 1 Axes>"
            ],
            "image/png": "[encoded data removed]"
          },
          "metadata": {}
        },
        {
          "output_type": "execute_result",
          "data": {
            "text/plain": [
              "<Axes: xlabel='Samples', ylabel='Counts'>"
            ]
          },
          "metadata": {},
          "execution_count": 22
        }
      ]
    },
    {
      "cell_type": "markdown",
      "source": [
        "We have got the frequency plot for the top 10 words.From the plot we can find that the \",\" is the having the highest frequency."
      ],
      "metadata": {
        "id": "riYR-VB0LVUb"
      }
    }
  ]
}